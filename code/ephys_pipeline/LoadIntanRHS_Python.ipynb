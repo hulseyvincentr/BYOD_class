{
 "cells": [
  {
   "cell_type": "markdown",
   "id": "f9624fa7",
   "metadata": {},
   "source": [
    "# Load Data from an Intan RHS file.\n",
    "### Header information (and saved data, if present) will be stored in the *result* variable. You'll also be able to specify a channel's name to plot its recorded data as an example of accessing data from *result*."
   ]
  },
  {
   "cell_type": "code",
   "execution_count": 12,
   "id": "b2dc4c21",
   "metadata": {},
   "outputs": [
    {
     "data": {
      "text/plain": [
       "<Figure size 640x480 with 0 Axes>"
      ]
     },
     "metadata": {},
     "output_type": "display_data"
    }
   ],
   "source": [
    "# Load the background Python functions that allow for data loading and plotting\n",
    "%run importrhsutilities.py"
   ]
  },
  {
   "cell_type": "markdown",
   "id": "bbdc173d",
   "metadata": {},
   "source": [
    "### Name of file to load. To load a different file, move it to the same directory as this notebook, and change the following 'filename' variable to point the name of your file."
   ]
  },
  {
   "cell_type": "code",
   "execution_count": 13,
   "id": "20221cb3",
   "metadata": {},
   "outputs": [
    {
     "name": "stdout",
     "output_type": "stream",
     "text": [
      "\n",
      "Reading Intan Technologies RHS Data File, Version 3.0\n",
      "\n",
      "Found 16 amplifier channels.\n",
      "Found 0 board ADC channels.\n",
      "Found 1 board DAC channel.\n",
      "Found 0 board digital input channels.\n",
      "Found 0 board digital output channels.\n",
      "\n",
      "File contains 60.002 seconds of data.  Amplifiers were sampled at 30.00 kS/s.\n",
      "\n",
      "Allocating memory for data...\n",
      "Reading data from file...\n",
      "10% done...\n",
      "20% done...\n",
      "30% done...\n",
      "40% done...\n",
      "50% done...\n",
      "60% done...\n",
      "70% done...\n",
      "80% done...\n",
      "90% done...\n",
      "Parsing data...\n",
      "No missing timestamps in data.\n",
      "Done!  Elapsed time: 2.5 seconds\n"
     ]
    }
   ],
   "source": [
    "filename = '/Users/mirandahulsey-vincent/Documents/allPythonCode/BYOD_class/data_inputs/ZFG5__241211_142135.rhs' # Change this variable to load a different data file\n",
    "result, data_present = load_file(filename)"
   ]
  },
  {
   "cell_type": "markdown",
   "id": "8437bd9b",
   "metadata": {},
   "source": [
    "### Once a file is loaded, all of its information is stored in the *result* variable. If further analysis of recorded data is desired, this is the variable that should be used.\n",
    "\n",
    "### As an example, the plot_channel function (code in *importintanutilitiespy*) accesses *result* to plot a specific channel."
   ]
  },
  {
   "cell_type": "code",
   "execution_count": 14,
   "id": "e800d48e",
   "metadata": {},
   "outputs": [
    {
     "name": "stdout",
     "output_type": "stream",
     "text": [
      "D-000\n",
      "D-001\n",
      "D-002\n",
      "D-003\n",
      "D-004\n",
      "D-005\n",
      "D-006\n",
      "D-007\n",
      "D-008\n",
      "D-009\n",
      "D-010\n",
      "D-011\n",
      "D-012\n",
      "D-013\n",
      "D-014\n",
      "D-015\n",
      "ANALOG-OUT-1\n"
     ]
    }
   ],
   "source": [
    "print_all_channel_names(result) # Uncomment this line and re-run cell to display names of all available channels"
   ]
  },
  {
   "cell_type": "code",
   "execution_count": 15,
   "id": "ea8ac105",
   "metadata": {},
   "outputs": [
    {
     "data": {
      "image/png": "[encoded data removed]",
      "text/plain": [
       "<Figure size 640x480 with 1 Axes>"
      ]
     },
     "metadata": {},
     "output_type": "display_data"
    }
   ],
   "source": [
    "channel_name = 'D-013' # Change this variable and re-run cell to plot a different channel\n",
    "\n",
    "%matplotlib inline\n",
    "\n",
    "if data_present:\n",
    "    plot_channel(channel_name, result)\n",
    "    \n",
    "else:\n",
    "    print('Plotting not possible; no data in this file')"
   ]
  },
  {
   "cell_type": "code",
   "execution_count": 17,
   "id": "220306d9",
   "metadata": {},
   "outputs": [
    {
     "name": "stdout",
     "output_type": "stream",
     "text": [
      "{'stim_parameters': {'stim_step_size': 4.999999987376214e-07, 'charge_recovery_current_limit': 9.99999993922529e-09, 'charge_recovery_target_voltage': 0.0, 'amp_settle_mode': 0, 'charge_recovery_mode': 0}, 'notes': {'note1': 'device3', 'note2': 'depth2.6', 'note3': ''}, 'spike_triggers': [{'voltage_trigger_mode': 1, 'voltage_threshold': -70, 'digital_trigger_channel': 0, 'digital_edge_polarity': 0}, {'voltage_trigger_mode': 1, 'voltage_threshold': -70, 'digital_trigger_channel': 0, 'digital_edge_polarity': 0}, {'voltage_trigger_mode': 1, 'voltage_threshold': -70, 'digital_trigger_channel': 0, 'digital_edge_polarity': 0}, {'voltage_trigger_mode': 1, 'voltage_threshold': -70, 'digital_trigger_channel': 0, 'digital_edge_polarity': 0}, {'voltage_trigger_mode': 1, 'voltage_threshold': -70, 'digital_trigger_channel': 0, 'digital_edge_polarity': 0}, {'voltage_trigger_mode': 1, 'voltage_threshold': -70, 'digital_trigger_channel': 0, 'digital_edge_polarity': 0}, {'voltage_trigger_mode': 1, 'voltage_threshold': -70, 'digital_trigger_channel': 0, 'digital_edge_polarity': 0}, {'voltage_trigger_mode': 1, 'voltage_threshold': -70, 'digital_trigger_channel': 0, 'digital_edge_polarity': 0}, {'voltage_trigger_mode': 1, 'voltage_threshold': -70, 'digital_trigger_channel': 0, 'digital_edge_polarity': 0}, {'voltage_trigger_mode': 1, 'voltage_threshold': -70, 'digital_trigger_channel': 0, 'digital_edge_polarity': 0}, {'voltage_trigger_mode': 1, 'voltage_threshold': -70, 'digital_trigger_channel': 0, 'digital_edge_polarity': 0}, {'voltage_trigger_mode': 1, 'voltage_threshold': -70, 'digital_trigger_channel': 0, 'digital_edge_polarity': 0}, {'voltage_trigger_mode': 1, 'voltage_threshold': -70, 'digital_trigger_channel': 0, 'digital_edge_polarity': 0}, {'voltage_trigger_mode': 1, 'voltage_threshold': -70, 'digital_trigger_channel': 0, 'digital_edge_polarity': 0}, {'voltage_trigger_mode': 1, 'voltage_threshold': -70, 'digital_trigger_channel': 0, 'digital_edge_polarity': 0}, {'voltage_trigger_mode': 1, 'voltage_threshold': -70, 'digital_trigger_channel': 0, 'digital_edge_polarity': 0}], 'amplifier_channels': [{'port_name': 'Port D', 'port_prefix': 'D', 'port_number': 4, 'native_channel_name': 'D-000', 'custom_channel_name': 'D-000', 'native_order': 0, 'custom_order': 0, 'chip_channel': 0, 'board_stream': 0, 'electrode_impedance_magnitude': 449385.875, 'electrode_impedance_phase': -47.9653205871582}, {'port_name': 'Port D', 'port_prefix': 'D', 'port_number': 4, 'native_channel_name': 'D-001', 'custom_channel_name': 'D-001', 'native_order': 1, 'custom_order': 1, 'chip_channel': 1, 'board_stream': 0, 'electrode_impedance_magnitude': 460806.28125, 'electrode_impedance_phase': -50.6011962890625}, {'port_name': 'Port D', 'port_prefix': 'D', 'port_number': 4, 'native_channel_name': 'D-002', 'custom_channel_name': 'D-002', 'native_order': 2, 'custom_order': 2, 'chip_channel': 2, 'board_stream': 0, 'electrode_impedance_magnitude': 37626032.0, 'electrode_impedance_phase': -156.56048583984375}, {'port_name': 'Port D', 'port_prefix': 'D', 'port_number': 4, 'native_channel_name': 'D-003', 'custom_channel_name': 'D-003', 'native_order': 3, 'custom_order': 3, 'chip_channel': 3, 'board_stream': 0, 'electrode_impedance_magnitude': 41027452.0, 'electrode_impedance_phase': -174.84091186523438}, {'port_name': 'Port D', 'port_prefix': 'D', 'port_number': 4, 'native_channel_name': 'D-004', 'custom_channel_name': 'D-004', 'native_order': 4, 'custom_order': 4, 'chip_channel': 4, 'board_stream': 0, 'electrode_impedance_magnitude': 41671388.0, 'electrode_impedance_phase': -176.3920440673828}, {'port_name': 'Port D', 'port_prefix': 'D', 'port_number': 4, 'native_channel_name': 'D-005', 'custom_channel_name': 'D-005', 'native_order': 5, 'custom_order': 5, 'chip_channel': 5, 'board_stream': 0, 'electrode_impedance_magnitude': 39128360.0, 'electrode_impedance_phase': 172.03802490234375}, {'port_name': 'Port D', 'port_prefix': 'D', 'port_number': 4, 'native_channel_name': 'D-006', 'custom_channel_name': 'D-006', 'native_order': 6, 'custom_order': 6, 'chip_channel': 6, 'board_stream': 0, 'electrode_impedance_magnitude': 425748.09375, 'electrode_impedance_phase': -44.632728576660156}, {'port_name': 'Port D', 'port_prefix': 'D', 'port_number': 4, 'native_channel_name': 'D-007', 'custom_channel_name': 'D-007', 'native_order': 7, 'custom_order': 7, 'chip_channel': 7, 'board_stream': 0, 'electrode_impedance_magnitude': 456732.84375, 'electrode_impedance_phase': -52.82844161987305}, {'port_name': 'Port D', 'port_prefix': 'D', 'port_number': 4, 'native_channel_name': 'D-008', 'custom_channel_name': 'D-008', 'native_order': 8, 'custom_order': 8, 'chip_channel': 8, 'board_stream': 0, 'electrode_impedance_magnitude': 300940.0, 'electrode_impedance_phase': -41.261741638183594}, {'port_name': 'Port D', 'port_prefix': 'D', 'port_number': 4, 'native_channel_name': 'D-009', 'custom_channel_name': 'D-009', 'native_order': 9, 'custom_order': 9, 'chip_channel': 9, 'board_stream': 0, 'electrode_impedance_magnitude': 464525.75, 'electrode_impedance_phase': -45.47219467163086}, {'port_name': 'Port D', 'port_prefix': 'D', 'port_number': 4, 'native_channel_name': 'D-010', 'custom_channel_name': 'D-010', 'native_order': 10, 'custom_order': 10, 'chip_channel': 10, 'board_stream': 0, 'electrode_impedance_magnitude': 956839.5625, 'electrode_impedance_phase': -47.07650375366211}, {'port_name': 'Port D', 'port_prefix': 'D', 'port_number': 4, 'native_channel_name': 'D-011', 'custom_channel_name': 'D-011', 'native_order': 11, 'custom_order': 11, 'chip_channel': 11, 'board_stream': 0, 'electrode_impedance_magnitude': 53816272.0, 'electrode_impedance_phase': -177.79188537597656}, {'port_name': 'Port D', 'port_prefix': 'D', 'port_number': 4, 'native_channel_name': 'D-012', 'custom_channel_name': 'D-012', 'native_order': 12, 'custom_order': 12, 'chip_channel': 12, 'board_stream': 0, 'electrode_impedance_magnitude': 54879468.0, 'electrode_impedance_phase': -152.4266815185547}, {'port_name': 'Port D', 'port_prefix': 'D', 'port_number': 4, 'native_channel_name': 'D-013', 'custom_channel_name': 'D-013', 'native_order': 13, 'custom_order': 13, 'chip_channel': 13, 'board_stream': 0, 'electrode_impedance_magnitude': 39872416.0, 'electrode_impedance_phase': -135.05076599121094}, {'port_name': 'Port D', 'port_prefix': 'D', 'port_number': 4, 'native_channel_name': 'D-014', 'custom_channel_name': 'D-014', 'native_order': 14, 'custom_order': 14, 'chip_channel': 14, 'board_stream': 0, 'electrode_impedance_magnitude': 299768.90625, 'electrode_impedance_phase': -34.76079177856445}, {'port_name': 'Port D', 'port_prefix': 'D', 'port_number': 4, 'native_channel_name': 'D-015', 'custom_channel_name': 'D-015', 'native_order': 15, 'custom_order': 15, 'chip_channel': 15, 'board_stream': 0, 'electrode_impedance_magnitude': 319645.78125, 'electrode_impedance_phase': -36.576194763183594}], 'frequency_parameters': {'amplifier_sample_rate': 30000.0, 'board_adc_sample_rate': 30000.0, 'board_dig_in_sample_rate': 30000.0, 'desired_dsp_cutoff_frequency': 75.19290161132812, 'actual_dsp_cutoff_frequency': 75.19286346435547, 'dsp_enabled': 1, 'desired_lower_bandwidth': 52.69070053100586, 'desired_lower_settle_bandwidth': 1000.0, 'actual_lower_bandwidth': 54.043399810791016, 'actual_lower_settle_bandwidth': 1205.8927001953125, 'desired_upper_bandwidth': 4500.0, 'actual_upper_bandwidth': 4484.64599609375, 'notch_filter_frequency': 60, 'desired_impedance_test_frequency': 1000.0, 'actual_impedance_test_frequency': 1000.0}, 'reference_channel': 'n/a', 'board_dac_channels': [{'port_name': 'Analog Out Ports', 'port_prefix': 'ANALOG-OUT', 'port_number': 6, 'native_channel_name': 'ANALOG-OUT-1', 'custom_channel_name': 'ANALOG-OUT-1', 'native_order': 0, 'custom_order': 0, 'chip_channel': 0, 'board_stream': 0, 'electrode_impedance_magnitude': 0.0, 'electrode_impedance_phase': 0.0}], 't': array([0.00000000e+00, 3.33333333e-05, 6.66666667e-05, ...,\n",
      "       6.00020333e+01, 6.00020667e+01, 6.00021000e+01]), 'stim_data': array([[0., 0., 0., ..., 0., 0., 0.],\n",
      "       [0., 0., 0., ..., 0., 0., 0.],\n",
      "       [0., 0., 0., ..., 0., 0., 0.],\n",
      "       ...,\n",
      "       [0., 0., 0., ..., 0., 0., 0.],\n",
      "       [0., 0., 0., ..., 0., 0., 0.],\n",
      "       [0., 0., 0., ..., 0., 0., 0.]]), 'compliance_limit_data': array([[False, False, False, ..., False, False, False],\n",
      "       [False, False, False, ..., False, False, False],\n",
      "       [False, False, False, ..., False, False, False],\n",
      "       ...,\n",
      "       [False, False, False, ..., False, False, False],\n",
      "       [False, False, False, ..., False, False, False],\n",
      "       [False, False, False, ..., False, False, False]]), 'charge_recovery_data': array([[False, False, False, ..., False, False, False],\n",
      "       [False, False, False, ..., False, False, False],\n",
      "       [False, False, False, ..., False, False, False],\n",
      "       ...,\n",
      "       [False, False, False, ..., False, False, False],\n",
      "       [False, False, False, ..., False, False, False],\n",
      "       [False, False, False, ..., False, False, False]]), 'amp_settle_data': array([[False, False, False, ..., False, False, False],\n",
      "       [False, False, False, ..., False, False, False],\n",
      "       [False, False, False, ..., False, False, False],\n",
      "       ...,\n",
      "       [False, False, False, ..., False, False, False],\n",
      "       [False, False, False, ..., False, False, False],\n",
      "       [False, False, False, ..., False, False, False]]), 'amplifier_data': array([[  -7.995,  -25.545,  -17.355, ...,   -0.78 ,    3.9  ,    5.46 ],\n",
      "       [  -7.41 ,  -29.055,  -19.305, ...,   -8.97 ,   -2.535,   -2.34 ],\n",
      "       [   6.63 , -129.48 , -367.185, ...,    2.34 ,    6.045,    7.215],\n",
      "       ...,\n",
      "       [ -24.96 , -262.275, -444.21 , ...,   -7.02 ,   -7.215,    3.12 ],\n",
      "       [ -26.715,   -5.07 ,   36.27 , ...,   -1.365,   -7.605,  -14.82 ],\n",
      "       [ -34.32 ,  -37.245,    1.56 , ...,   -1.365,   -7.41 ,   -2.535]]), 'board_dac_data': array([[ 0.35, -1.07, -1.23, ...,  0.37,  0.19, -0.04]])}\n"
     ]
    }
   ],
   "source": [
    "print(result)"
   ]
  },
  {
   "cell_type": "code",
   "execution_count": null,
   "id": "721b82ab",
   "metadata": {},
   "outputs": [],
   "source": []
  }
 ],
 "metadata": {
  "kernelspec": {
   "display_name": "BYOD_class",
   "language": "python",
   "name": "python3"
  },
  "language_info": {
   "codemirror_mode": {
    "name": "ipython",
    "version": 3
   },
   "file_extension": ".py",
   "mimetype": "text/x-python",
   "name": "python",
   "nbconvert_exporter": "python",
   "pygments_lexer": "ipython3",
   "version": "3.9.21"
  }
 },
 "nbformat": 4,
 "nbformat_minor": 5
}
