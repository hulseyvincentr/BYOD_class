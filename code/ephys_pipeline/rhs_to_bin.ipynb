{
 "cells": [
  {
   "cell_type": "markdown",
   "metadata": {},
   "source": [
    "# This code converts .rhs files into .bin files so they can be read by kilosort's GUI"
   ]
  },
  {
   "cell_type": "markdown",
   "metadata": {},
   "source": []
  },
  {
   "cell_type": "code",
   "execution_count": 4,
   "metadata": {},
   "outputs": [
    {
     "name": "stdout",
     "output_type": "stream",
     "text": [
      "write_binary_recording \n",
      "engine=process - n_jobs=1 - samples_per_chunk=30,000 - chunk_memory=937.50 KiB - total_memory=937.50 KiB - chunk_duration=1.00s\n"
     ]
    },
    {
     "name": "stderr",
     "output_type": "stream",
     "text": [
      "write_binary_recording (no parallelization): 100%|██████████| 31/31 [00:00<00:00, 141.51it/s]"
     ]
    },
    {
     "name": "stdout",
     "output_type": "stream",
     "text": [
      "✅ Saved binary file to: /Users/mirandahulsey-vincent/Desktop/Ephys_analysis_pipeline_development/binary_files/20241211_SPL001D3_ZFG5_241211_141412.bin\n"
     ]
    },
    {
     "name": "stderr",
     "output_type": "stream",
     "text": [
      "\n"
     ]
    }
   ],
   "source": [
    "from pathlib import Path\n",
    "from spikeinterface.extractors import read_intan\n",
    "from spikeinterface.core import BinaryRecordingExtractor\n",
    "\n",
    "# === Set paths ===\n",
    "rhs_file = Path(\"/Users/mirandahulsey-vincent/Desktop/Ephys_analysis_pipeline_development/20241211_SPL001D3_ZFG5_241211_141412.rhs\")\n",
    "output_folder = Path(\"/Users/mirandahulsey-vincent/Desktop/Ephys_analysis_pipeline_development/binary_files\")\n",
    "\n",
    "# Create output folder if it doesn't exist\n",
    "output_folder.mkdir(parents=True, exist_ok=True)\n",
    "\n",
    "# === Load RHS file ===\n",
    "recording = read_intan(rhs_file, stream_id='0')\n",
    "\n",
    "# === Define save path ===\n",
    "bin_filename = rhs_file.stem + \".bin\"\n",
    "bin_save_path = output_folder / bin_filename\n",
    "\n",
    "# === Save binary file using only valid job_kwargs ===\n",
    "BinaryRecordingExtractor.write_recording(\n",
    "    recording=recording,\n",
    "    file_paths=bin_save_path,\n",
    "    dtype='int16',\n",
    "    n_jobs=1,  # valid job keyword\n",
    "    chunk_duration='1s',  # valid job keyword\n",
    "    verbose=True  # valid keyword\n",
    ")\n",
    "\n",
    "print(f\"✅ Saved binary file to: {bin_save_path}\")\n"
   ]
  },
  {
   "cell_type": "code",
   "execution_count": null,
   "metadata": {},
   "outputs": [],
   "source": []
  }
 ],
 "metadata": {
  "kernelspec": {
   "display_name": "kilosort",
   "language": "python",
   "name": "python3"
  },
  "language_info": {
   "codemirror_mode": {
    "name": "ipython",
    "version": 3
   },
   "file_extension": ".py",
   "mimetype": "text/x-python",
   "name": "python",
   "nbconvert_exporter": "python",
   "pygments_lexer": "ipython3",
   "version": "3.9.21"
  }
 },
 "nbformat": 4,
 "nbformat_minor": 2
}
